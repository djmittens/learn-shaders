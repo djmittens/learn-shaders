{
 "cells": [
  {
   "cell_type": "code",
   "execution_count": 1,
   "metadata": {},
   "outputs": [
    {
     "name": "stdout",
     "output_type": "stream",
     "text": [
      "\u001b[33mDEPRECATION: Configuring installation scheme with distutils config files is deprecated and will no longer work in the near future. If you are using a Homebrew or Linuxbrew Python, please see discussion at https://github.com/Homebrew/homebrew-core/issues/76621\u001b[0m\n",
      "Requirement already satisfied: numpy in /opt/homebrew/lib/python3.9/site-packages (1.22.3)\n",
      "Requirement already satisfied: plotly in /opt/homebrew/lib/python3.9/site-packages (5.8.0)\n",
      "Requirement already satisfied: jupyter-dash in /opt/homebrew/lib/python3.9/site-packages (0.4.2)\n",
      "Requirement already satisfied: tenacity>=6.2.0 in /opt/homebrew/lib/python3.9/site-packages (from plotly) (8.0.1)\n",
      "Requirement already satisfied: dash in /opt/homebrew/lib/python3.9/site-packages (from jupyter-dash) (2.4.1)\n",
      "Requirement already satisfied: ipython in /opt/homebrew/lib/python3.9/site-packages (from jupyter-dash) (8.3.0)\n",
      "Requirement already satisfied: requests in /opt/homebrew/lib/python3.9/site-packages (from jupyter-dash) (2.27.1)\n",
      "Requirement already satisfied: ipykernel in /opt/homebrew/lib/python3.9/site-packages (from jupyter-dash) (6.13.0)\n",
      "Requirement already satisfied: nest-asyncio in /opt/homebrew/lib/python3.9/site-packages (from jupyter-dash) (1.5.5)\n",
      "Requirement already satisfied: retrying in /opt/homebrew/lib/python3.9/site-packages (from jupyter-dash) (1.3.3)\n",
      "Requirement already satisfied: ansi2html in /opt/homebrew/lib/python3.9/site-packages (from jupyter-dash) (1.7.0)\n",
      "Requirement already satisfied: flask in /opt/homebrew/lib/python3.9/site-packages (from jupyter-dash) (2.1.2)\n",
      "Requirement already satisfied: flask-compress in /opt/homebrew/lib/python3.9/site-packages (from dash->jupyter-dash) (1.12)\n",
      "Requirement already satisfied: dash-html-components==2.0.0 in /opt/homebrew/lib/python3.9/site-packages (from dash->jupyter-dash) (2.0.0)\n",
      "Requirement already satisfied: dash-core-components==2.0.0 in /opt/homebrew/lib/python3.9/site-packages (from dash->jupyter-dash) (2.0.0)\n",
      "Requirement already satisfied: dash-table==5.0.0 in /opt/homebrew/lib/python3.9/site-packages (from dash->jupyter-dash) (5.0.0)\n",
      "Requirement already satisfied: Jinja2>=3.0 in /opt/homebrew/lib/python3.9/site-packages (from flask->jupyter-dash) (3.1.2)\n",
      "Requirement already satisfied: click>=8.0 in /opt/homebrew/lib/python3.9/site-packages (from flask->jupyter-dash) (8.1.3)\n",
      "Requirement already satisfied: Werkzeug>=2.0 in /opt/homebrew/lib/python3.9/site-packages (from flask->jupyter-dash) (2.1.2)\n",
      "Requirement already satisfied: importlib-metadata>=3.6.0 in /opt/homebrew/lib/python3.9/site-packages (from flask->jupyter-dash) (4.11.3)\n",
      "Requirement already satisfied: itsdangerous>=2.0 in /opt/homebrew/lib/python3.9/site-packages (from flask->jupyter-dash) (2.1.2)\n",
      "Requirement already satisfied: packaging in /opt/homebrew/lib/python3.9/site-packages (from ipykernel->jupyter-dash) (21.3)\n",
      "Requirement already satisfied: debugpy>=1.0 in /opt/homebrew/lib/python3.9/site-packages (from ipykernel->jupyter-dash) (1.6.0)\n",
      "Requirement already satisfied: psutil in /opt/homebrew/lib/python3.9/site-packages (from ipykernel->jupyter-dash) (5.9.0)\n",
      "Requirement already satisfied: matplotlib-inline>=0.1 in /opt/homebrew/lib/python3.9/site-packages (from ipykernel->jupyter-dash) (0.1.3)\n",
      "Requirement already satisfied: traitlets>=5.1.0 in /opt/homebrew/lib/python3.9/site-packages (from ipykernel->jupyter-dash) (5.2.1.post0)\n",
      "Requirement already satisfied: tornado>=6.1 in /opt/homebrew/lib/python3.9/site-packages (from ipykernel->jupyter-dash) (6.1)\n",
      "Requirement already satisfied: jupyter-client>=6.1.12 in /opt/homebrew/lib/python3.9/site-packages (from ipykernel->jupyter-dash) (7.3.1)\n",
      "Requirement already satisfied: appnope in /opt/homebrew/lib/python3.9/site-packages (from ipykernel->jupyter-dash) (0.1.3)\n",
      "Requirement already satisfied: pickleshare in /opt/homebrew/lib/python3.9/site-packages (from ipython->jupyter-dash) (0.7.5)\n",
      "Requirement already satisfied: prompt-toolkit!=3.0.0,!=3.0.1,<3.1.0,>=2.0.0 in /opt/homebrew/lib/python3.9/site-packages (from ipython->jupyter-dash) (3.0.29)\n",
      "Requirement already satisfied: backcall in /opt/homebrew/lib/python3.9/site-packages (from ipython->jupyter-dash) (0.2.0)\n",
      "Requirement already satisfied: pygments>=2.4.0 in /opt/homebrew/lib/python3.9/site-packages (from ipython->jupyter-dash) (2.12.0)\n",
      "Requirement already satisfied: pexpect>4.3 in /opt/homebrew/lib/python3.9/site-packages (from ipython->jupyter-dash) (4.8.0)\n",
      "Requirement already satisfied: decorator in /opt/homebrew/lib/python3.9/site-packages (from ipython->jupyter-dash) (5.1.1)\n",
      "Requirement already satisfied: setuptools>=18.5 in /opt/homebrew/lib/python3.9/site-packages (from ipython->jupyter-dash) (59.0.1)\n",
      "Requirement already satisfied: jedi>=0.16 in /opt/homebrew/lib/python3.9/site-packages (from ipython->jupyter-dash) (0.18.1)\n",
      "Requirement already satisfied: stack-data in /opt/homebrew/lib/python3.9/site-packages (from ipython->jupyter-dash) (0.2.0)\n",
      "Requirement already satisfied: certifi>=2017.4.17 in /opt/homebrew/lib/python3.9/site-packages (from requests->jupyter-dash) (2021.10.8)\n",
      "Requirement already satisfied: charset-normalizer~=2.0.0 in /opt/homebrew/lib/python3.9/site-packages (from requests->jupyter-dash) (2.0.12)\n",
      "Requirement already satisfied: urllib3<1.27,>=1.21.1 in /opt/homebrew/lib/python3.9/site-packages (from requests->jupyter-dash) (1.26.9)\n",
      "Requirement already satisfied: idna<4,>=2.5 in /opt/homebrew/lib/python3.9/site-packages (from requests->jupyter-dash) (3.3)\n",
      "Requirement already satisfied: six>=1.7.0 in /opt/homebrew/lib/python3.9/site-packages (from retrying->jupyter-dash) (1.16.0)\n",
      "Requirement already satisfied: zipp>=0.5 in /opt/homebrew/lib/python3.9/site-packages (from importlib-metadata>=3.6.0->flask->jupyter-dash) (3.8.0)\n",
      "Requirement already satisfied: parso<0.9.0,>=0.8.0 in /opt/homebrew/lib/python3.9/site-packages (from jedi>=0.16->ipython->jupyter-dash) (0.8.3)\n",
      "Requirement already satisfied: MarkupSafe>=2.0 in /opt/homebrew/lib/python3.9/site-packages (from Jinja2>=3.0->flask->jupyter-dash) (2.1.1)\n",
      "Requirement already satisfied: jupyter-core>=4.9.2 in /opt/homebrew/lib/python3.9/site-packages (from jupyter-client>=6.1.12->ipykernel->jupyter-dash) (4.10.0)\n",
      "Requirement already satisfied: entrypoints in /opt/homebrew/lib/python3.9/site-packages (from jupyter-client>=6.1.12->ipykernel->jupyter-dash) (0.4)\n",
      "Requirement already satisfied: pyzmq>=22.3 in /opt/homebrew/lib/python3.9/site-packages (from jupyter-client>=6.1.12->ipykernel->jupyter-dash) (22.3.0)\n",
      "Requirement already satisfied: python-dateutil>=2.8.2 in /opt/homebrew/lib/python3.9/site-packages (from jupyter-client>=6.1.12->ipykernel->jupyter-dash) (2.8.2)\n",
      "Requirement already satisfied: ptyprocess>=0.5 in /opt/homebrew/lib/python3.9/site-packages (from pexpect>4.3->ipython->jupyter-dash) (0.7.0)\n",
      "Requirement already satisfied: wcwidth in /opt/homebrew/lib/python3.9/site-packages (from prompt-toolkit!=3.0.0,!=3.0.1,<3.1.0,>=2.0.0->ipython->jupyter-dash) (0.2.5)\n",
      "Requirement already satisfied: brotli in /opt/homebrew/lib/python3.9/site-packages (from flask-compress->dash->jupyter-dash) (1.0.9)\n",
      "Requirement already satisfied: pyparsing!=3.0.5,>=2.0.2 in /opt/homebrew/lib/python3.9/site-packages (from packaging->ipykernel->jupyter-dash) (3.0.9)\n",
      "Requirement already satisfied: executing in /opt/homebrew/lib/python3.9/site-packages (from stack-data->ipython->jupyter-dash) (0.8.3)\n",
      "Requirement already satisfied: pure-eval in /opt/homebrew/lib/python3.9/site-packages (from stack-data->ipython->jupyter-dash) (0.2.2)\n",
      "Requirement already satisfied: asttokens in /opt/homebrew/lib/python3.9/site-packages (from stack-data->ipython->jupyter-dash) (2.0.5)\n",
      "\u001b[33mDEPRECATION: Configuring installation scheme with distutils config files is deprecated and will no longer work in the near future. If you are using a Homebrew or Linuxbrew Python, please see discussion at https://github.com/Homebrew/homebrew-core/issues/76621\u001b[0m\n",
      "\u001b[33mWARNING: You are using pip version 21.3.1; however, version 22.1 is available.\n",
      "You should consider upgrading via the '/opt/homebrew/opt/python@3.9/bin/python3.9 -m pip install --upgrade pip' command.\u001b[0m\n"
     ]
    }
   ],
   "source": [
    "import sys\n",
    "!{sys.executable} -m pip install numpy plotly jupyter-dash"
   ]
  },
  {
   "cell_type": "code",
   "execution_count": null,
   "metadata": {},
   "outputs": [],
   "source": []
  }
 ],
 "metadata": {
  "interpreter": {
   "hash": "b0fa6594d8f4cbf19f97940f81e996739fb7646882a419484c72d19e05852a7e"
  },
  "kernelspec": {
   "display_name": "Python 3.9.9 64-bit",
   "language": "python",
   "name": "python3"
  },
  "language_info": {
   "codemirror_mode": {
    "name": "ipython",
    "version": 3
   },
   "file_extension": ".py",
   "mimetype": "text/x-python",
   "name": "python",
   "nbconvert_exporter": "python",
   "pygments_lexer": "ipython3",
   "version": "3.9.9"
  },
  "orig_nbformat": 4
 },
 "nbformat": 4,
 "nbformat_minor": 2
}
